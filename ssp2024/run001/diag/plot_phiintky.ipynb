{
 "cells": [
  {
   "cell_type": "code",
   "execution_count": null,
   "metadata": {},
   "outputs": [],
   "source": [
    "import numpy as np\n",
    "import matplotlib.pyplot as plt\n",
    "import xarray as xr\n",
    "import dask.array as da\n",
    "import f90nml\n",
    "\n",
    "nml = f90nml.read(\"../param.namelist\")\n",
    "lx = nml[\"numer\"][\"lx\"]\n",
    "ly = nml[\"numer\"][\"ly\"]\n",
    "ca = nml[\"physp\"][\"ca\"]\n",
    "nu = nml[\"physp\"][\"nu\"]\n",
    "eta = nml[\"physp\"][\"eta\"]\n",
    "gammae = nml[\"physp\"][\"gammae\"]\n",
    "init_ampl = nml[\"physp\"][\"init_ampl\"]\n",
    "print(\"# ca =\",ca)\n",
    "print(\"# nu =\",nu)\n",
    "print(\"# eta =\",eta)\n",
    "print(\"# gammae =\",gammae)\n",
    "print(\"# init_ampl =\",init_ampl)\n",
    "\n",
    "ds=xr.open_mfdataset(\"../data/phiinkxky*.nc\")\n",
    "print(ds)\n",
    "phi=(ds.rephi + 1j*ds.imphi).to_numpy()\n",
    "dns=(ds.redns + 1j*ds.imdns).to_numpy()\n",
    "omg=(ds.reomg + 1j*ds.imomg).to_numpy()\n",
    "kx=(ds.kx).to_numpy()\n",
    "ky=(ds.ky).to_numpy()\n",
    "t=(ds.t).to_numpy()\n",
    "nkx=int((len(kx)-1)/2)\n",
    "nky=len(ky)-1\n",
    "nt=len(t)\n",
    "\n",
    "print(t.shape)   # Time: t\n",
    "print(ky.shape)  # Coordinate: ky\n",
    "print(kx.shape)  # Coordinate: kx\n",
    "print(dns.shape) # Density: n\n",
    "print(omg.shape) # Vorticisy: omega = \\nabla^2 phi\n",
    "print(phi.shape) # Electrostatic potential: phi"
   ]
  },
  {
   "cell_type": "code",
   "execution_count": null,
   "metadata": {},
   "outputs": [],
   "source": [
    "### Example of multiple line plot ###\n",
    "kx2, ky2 = np.meshgrid(kx,ky)\n",
    "ksq = kx2**2+ky2**2\n",
    "filt = np.ones_like(ksq)\n",
    "filt[0,0:nkx] = 0.0\n",
    "enetky = np.sum(filt.reshape(1,nky+1,2*nkx+1) * ksq.reshape(1,nky+1,2*nkx+1) * abs(phi)**2, axis=2)\n",
    "\n",
    "fig = plt.figure()\n",
    "ax = fig.add_subplot(111)\n",
    "for my in range(nky+1):\n",
    "    ax.plot(t,enetky[:,my],label=r\"$k_y$={:5.2f}\".format(ky[my]))\n",
    "ax.set_yscale(\"log\")\n",
    "vmax=float(np.max(enetky))\n",
    "print(abs(phi[10:]).max())\n",
    "ax.set_ylim(vmax*1e-8,vmax)\n",
    "ax.legend(bbox_to_anchor=(1,0),loc=\"lower left\",ncol=3)\n",
    "plt.show()"
   ]
  },
  {
   "cell_type": "code",
   "execution_count": null,
   "metadata": {},
   "outputs": [],
   "source": []
  },
  {
   "cell_type": "code",
   "execution_count": null,
   "metadata": {},
   "outputs": [],
   "source": []
  },
  {
   "cell_type": "code",
   "execution_count": null,
   "metadata": {},
   "outputs": [],
   "source": []
  }
 ],
 "metadata": {
  "kernelspec": {
   "display_name": "Python 3 (ipykernel)",
   "language": "python",
   "name": "python3"
  },
  "language_info": {
   "codemirror_mode": {
    "name": "ipython",
    "version": 3
   },
   "file_extension": ".py",
   "mimetype": "text/x-python",
   "name": "python",
   "nbconvert_exporter": "python",
   "pygments_lexer": "ipython3",
   "version": "3.10.13"
  }
 },
 "nbformat": 4,
 "nbformat_minor": 4
}
